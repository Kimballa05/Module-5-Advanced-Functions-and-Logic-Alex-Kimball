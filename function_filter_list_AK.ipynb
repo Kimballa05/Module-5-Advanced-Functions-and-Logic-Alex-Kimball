{
 "cells": [
  {
   "cell_type": "code",
   "execution_count": 2,
   "id": "8d0358be",
   "metadata": {},
   "outputs": [
    {
     "name": "stdout",
     "output_type": "stream",
     "text": [
      "[10, 3, 3, 4, 5, 6, 7, 8]\n"
     ]
    }
   ],
   "source": [
    "\"\"\"3. Write a python program that, given an input list, will filter the input above a user defined threshold. \n",
    "This is to be done with a standard function.\n",
    "\n",
    "That is, given a list [1,2,3,4,5,6,7,8,9], and an argument (6), it should return [1,2,3,4,5,6]\"\"\"\n",
    "\n",
    "\n",
    "input_list = [10,3,3,4,5,6,7,8,9] #input list variable that you can change\n",
    "\n",
    "def function3(array, x): #function takes two arguments: a list and an integer representing how many elements in filtered list\n",
    "    new_list = []\n",
    "    for i in range(len(array[0:x])): #for loop iterating through list up to the given range\n",
    "        new_list.append(array[i])    #adds element to a new list\n",
    "        \n",
    "    return new_list\n",
    "\n",
    "print(function3(input_list,8))"
   ]
  }
 ],
 "metadata": {
  "kernelspec": {
   "display_name": "Python 3",
   "language": "python",
   "name": "python3"
  },
  "language_info": {
   "codemirror_mode": {
    "name": "ipython",
    "version": 3
   },
   "file_extension": ".py",
   "mimetype": "text/x-python",
   "name": "python",
   "nbconvert_exporter": "python",
   "pygments_lexer": "ipython3",
   "version": "3.8.8"
  }
 },
 "nbformat": 4,
 "nbformat_minor": 5
}
