{
 "cells": [
  {
   "cell_type": "code",
   "execution_count": 12,
   "id": "85c01bcd",
   "metadata": {},
   "outputs": [
    {
     "name": "stdout",
     "output_type": "stream",
     "text": [
      "[9, 10]\n"
     ]
    }
   ],
   "source": [
    "\"\"\"2. Write the a python program that, given an input list of any level of complexity/nestedness, \n",
    "will return the inner most list plus 1. This is to be done with recursion. \n",
    "Note: the input will contain only integers or lists. \"\"\"\n",
    "\n",
    "\n",
    "input_list = [1,2,3,4,[5,6,7,[8,9]]] #input list for testing\n",
    "\n",
    "def recursion(item_list):\n",
    "    if any((type(item)) == list for item in item_list): #Run following statements if there is a list within input list\n",
    "        item_list = [i for i in item_list if isinstance(i, list)] #make input list into a found nested list\n",
    "        item_list = item_list[0] #Gets the nested list without the outer empty list i.e [[5,6,7[8,9]]] becomes [5,6,7,[8,9]]\n",
    "        recursion(item_list) #Call the function again. If another nested list is found the previous steps will occur again.\n",
    "    else:\n",
    "        new_list = [x + 1 for x in item_list] #When no more lists are found, this code will execute, returning the list plus 1\n",
    "        print(new_list)                        \n",
    "\n",
    "recursion(input_list)"
   ]
  },
  {
   "cell_type": "code",
   "execution_count": null,
   "id": "72c423c4",
   "metadata": {},
   "outputs": [],
   "source": []
  }
 ],
 "metadata": {
  "kernelspec": {
   "display_name": "Python 3",
   "language": "python",
   "name": "python3"
  },
  "language_info": {
   "codemirror_mode": {
    "name": "ipython",
    "version": 3
   },
   "file_extension": ".py",
   "mimetype": "text/x-python",
   "name": "python",
   "nbconvert_exporter": "python",
   "pygments_lexer": "ipython3",
   "version": "3.8.8"
  }
 },
 "nbformat": 4,
 "nbformat_minor": 5
}
