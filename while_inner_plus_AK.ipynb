{
 "cells": [
  {
   "cell_type": "code",
   "execution_count": 4,
   "id": "40c10c66",
   "metadata": {},
   "outputs": [
    {
     "name": "stdout",
     "output_type": "stream",
     "text": [
      "[9, 10]\n",
      "[1]\n"
     ]
    }
   ],
   "source": [
    "\"\"\" 1. Write a python program that, given an input list of any level of complexity/nestedness, \n",
    "will return the inner most list plus 1. This is to be done with a while loop. \n",
    "Note: the input will contain only integers or lists. \n",
    "As an example:\n",
    "input_list = [1,2,3,4,[5,6,7,[8,9]]]\n",
    "your_py_program.py input_list\n",
    "will produce:\n",
    "[9,10]\n",
    "That is [8, 9] (the inner most list) plus 1 -> [9, 10]\"\"\"\n",
    "\n",
    "input_list = [1,2,3,4,[5,6,7,[8,9]]]\n",
    "input_list_2 = [5,[9,2, 1, 3, [5,6,7,[3,1,[0], 5, [1,2]], 5, 0]]] #input lists for testing\n",
    "\n",
    "def while_loop(item_list):\n",
    "    i = 0\n",
    "    while i < len(item_list): #while loop going through length of the list\n",
    "        if isinstance(item_list[i], list): #If element i in the input list is a list,\n",
    "            item_list = item_list[i] #Assign input list to be that element, which the while loop will iterate through\n",
    "            i = 0                    #Reset the iterating count\n",
    "        else:\n",
    "            i += 1                   #Else add 1 to the iterating count\n",
    "    new_list = [x + 1 for x in item_list] #Once while loop is done, return as a new list plus 1\n",
    "    return new_list\n",
    "\n",
    "\n",
    "print(while_loop(input_list))\n",
    "print(while_loop(input_list_2))"
   ]
  },
  {
   "cell_type": "code",
   "execution_count": null,
   "id": "e3f3cd69",
   "metadata": {},
   "outputs": [],
   "source": []
  }
 ],
 "metadata": {
  "kernelspec": {
   "display_name": "Python 3",
   "language": "python",
   "name": "python3"
  },
  "language_info": {
   "codemirror_mode": {
    "name": "ipython",
    "version": 3
   },
   "file_extension": ".py",
   "mimetype": "text/x-python",
   "name": "python",
   "nbconvert_exporter": "python",
   "pygments_lexer": "ipython3",
   "version": "3.8.8"
  }
 },
 "nbformat": 4,
 "nbformat_minor": 5
}
